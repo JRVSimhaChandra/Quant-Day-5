{
 "cells": [
  {
   "cell_type": "markdown",
   "id": "32d81f06-80c7-4b6c-ae19-caa805e3a4ff",
   "metadata": {},
   "source": [
    "## Instruments and pricing engines\n",
    "\n",
    "Setup\n",
    "\n",
    "First pricing method: analytic Black-Scholes formula"
   ]
  },
  {
   "cell_type": "code",
   "execution_count": 37,
   "id": "6bc18bfd-aabf-48bf-8386-a02116ec27e4",
   "metadata": {},
   "outputs": [
    {
     "name": "stdout",
     "output_type": "stream",
     "text": [
      "The option price is: 17.698227839595344\n"
     ]
    }
   ],
   "source": [
    "from QuantLib import *\n",
    "\n",
    "# Define the option\n",
    "maturity_date = Date(15, 1, 2025)\n",
    "spot_price = 100\n",
    "strike_price = 100\n",
    "volatility = 0.20  # the historical vols for a year\n",
    "risk_free_rate = 0.01\n",
    "dividend_rate = 0.02\n",
    "\n",
    "# Option type\n",
    "option_type = Option.Call\n",
    "exercise = EuropeanExercise(maturity_date)\n",
    "payoff = PlainVanillaPayoff(option_type, strike_price)\n",
    "option = VanillaOption(payoff, exercise)\n",
    "\n",
    "# Market data\n",
    "spot_handle = QuoteHandle(SimpleQuote(spot_price))\n",
    "flat_ts = YieldTermStructureHandle(FlatForward(0, TARGET(), risk_free_rate, Actual360()))\n",
    "dividend_yield = YieldTermStructureHandle(FlatForward(0, TARGET(), dividend_rate, Actual360()))\n",
    "flat_vol_ts = BlackVolTermStructureHandle(BlackConstantVol(0, TARGET(), volatility, Actual360()))\n",
    "\n",
    "\n",
    "bs_process = BlackScholesMertonProcess(spot_handle, dividend_yield, flat_ts, flat_vol_ts)\n",
    "\n",
    "\n",
    "engine = AnalyticEuropeanEngine(bs_process)\n",
    "option.setPricingEngine(engine)\n",
    "\n",
    "\n",
    "option_price = option.NPV()\n",
    "print(f\"The option price is: {option_price}\")\n"
   ]
  },
  {
   "cell_type": "code",
   "execution_count": 43,
   "id": "b68d8d6a-c4f0-48d4-8a5a-c7bd38e62648",
   "metadata": {},
   "outputs": [
    {
     "name": "stdout",
     "output_type": "stream",
     "text": [
      "0.45397905183641285\n",
      "0.004754495460641294\n",
      "104.7837971798001\n"
     ]
    }
   ],
   "source": [
    "print(option.delta())\n",
    "print(option.gamma())\n",
    "print(option.vega())"
   ]
  },
  {
   "cell_type": "markdown",
   "id": "c0f032a6-c9f7-409b-970a-934960edbea2",
   "metadata": {},
   "source": [
    "# Market Changes"
   ]
  },
  {
   "cell_type": "code",
   "execution_count": 44,
   "id": "f9147157-2638-471b-8227-9cbf2681dca6",
   "metadata": {},
   "outputs": [
    {
     "name": "stdout",
     "output_type": "stream",
     "text": [
      "17.698227839595344\n"
     ]
    }
   ],
   "source": [
    "u.setValue(105.0)\n",
    "print(option.NPV())"
   ]
  },
  {
   "cell_type": "code",
   "execution_count": 45,
   "id": "54f15250-6694-4c06-8a1a-fb023b7fef7e",
   "metadata": {},
   "outputs": [],
   "source": [
    "import numpy as np\n",
    "from IPython.display import display\n",
    "import matplotlib.pyplot as plt\n",
    "import utils"
   ]
  },
  {
   "cell_type": "code",
   "execution_count": 46,
   "id": "08421cb2-e53f-4e1d-bfa1-25aaac4b7bf4",
   "metadata": {},
   "outputs": [
    {
     "data": {
      "image/png": "[encoded data removed]",
      "text/plain": [
       "<Figure size 640x480 with 1 Axes>"
      ]
     },
     "metadata": {},
     "output_type": "display_data"
    }
   ],
   "source": [
    "import numpy as np\n",
    "from IPython.display import display\n",
    "import matplotlib.pyplot as plt\n",
    "\n",
    "# Assuming 'utils' contains functions for plotting, it's likely you intended to use matplotlib's plotting capabilities directly\n",
    "# If 'utils' is a custom module and 'plot' is intended to be a function within it, ensure that it's defined in the module.\n",
    "# Replace the call to 'utils.plot()' with the following:\n",
    "\n",
    "fig, ax = plt.subplots()  # Create a figure and axes using matplotlib\n",
    "\n",
    "# define xs and ys here so they can be used in the plotting code\n",
    "xs = np.linspace(80.0, 120.0, 400)\n",
    "ys = []\n",
    "# ... (rest of your code) ...\n",
    "\n",
    "for x in xs:\n",
    "    u.setValue(x)\n",
    "    ys.append(option.NPV())\n",
    "    \n",
    "# Move plotting outside the loop to plot after all data points are collected\n",
    "ax.set_title('Option value')  \n",
    "# utils.highlight_x_axis(ax)  # If 'highlight_x_axis' exists in 'utils', you can keep this line, otherwise, consider removing it or implementing it using matplotlib functionality\n",
    "ax.plot(xs, ys)  # Use matplotlib's plot function\n",
    "\n",
    "plt.show()  # Display the plot"
   ]
  },
  {
   "cell_type": "code",
   "execution_count": 47,
   "id": "a01bd1dc-b5af-4b92-8b64-26e21375c23e",
   "metadata": {},
   "outputs": [],
   "source": [
    "u.setValue(105.0)\n",
    "r.setValue(0.01)\n",
    "sigma.setValue(0.20)"
   ]
  },
  {
   "cell_type": "code",
   "execution_count": 48,
   "id": "79e57423-632c-40e5-9028-3e749b32e37f",
   "metadata": {},
   "outputs": [
    {
     "name": "stdout",
     "output_type": "stream",
     "text": [
      "17.698227839595344\n"
     ]
    }
   ],
   "source": [
    "print(option.NPV())"
   ]
  },
  {
   "cell_type": "code",
   "execution_count": 49,
   "id": "04d03eea-1b04-4a93-a431-4b28e0577388",
   "metadata": {},
   "outputs": [],
   "source": [
    "r.setValue(0.03)"
   ]
  },
  {
   "cell_type": "code",
   "execution_count": 50,
   "id": "355201f9-c5d9-4b70-aa49-c2eb2ead574a",
   "metadata": {},
   "outputs": [
    {
     "name": "stdout",
     "output_type": "stream",
     "text": [
      "17.698227839595344\n"
     ]
    }
   ],
   "source": [
    "print(option.NPV())"
   ]
  },
  {
   "cell_type": "code",
   "execution_count": 51,
   "id": "a55389ee-2f6c-4ddc-84da-7ff8f9f6cff9",
   "metadata": {},
   "outputs": [],
   "source": [
    "sigma.setValue(0.25)"
   ]
  },
  {
   "cell_type": "code",
   "execution_count": 52,
   "id": "89d921ca-167e-4484-abfe-4f43b2884bfb",
   "metadata": {},
   "outputs": [
    {
     "name": "stdout",
     "output_type": "stream",
     "text": [
      "17.698227839595344\n"
     ]
    }
   ],
   "source": [
    "print(option.NPV())"
   ]
  },
  {
   "cell_type": "markdown",
   "id": "b9c5619c-d736-4e8a-b0b5-f0d8a065d326",
   "metadata": {},
   "source": [
    "## Date Changes Day 6"
   ]
  },
  {
   "cell_type": "code",
   "execution_count": 14,
   "id": "fe4e09ba-9e40-486c-8915-693ab0d7c570",
   "metadata": {},
   "outputs": [],
   "source": [
    "# Assuming 'Parameter' is the correct class name\n",
    "class Parameter:\n",
    "    def setValue(self, value):\n",
    "        self.value = value\n",
    "\n",
    "# Define the variable using the correct class name\n",
    "u = Parameter()\n",
    "r = Parameter()\n",
    "sigma = Parameter()\n",
    "\n",
    "# Set the values\n",
    "u.setValue(105.0)\n",
    "r.setValue(0.01)\n",
    "sigma.setValue(0.20)"
   ]
  },
  {
   "cell_type": "code",
   "execution_count": 15,
   "id": "700c0486-b4e4-4c95-bdd5-34ef647924e5",
   "metadata": {},
   "outputs": [
    {
     "name": "stdout",
     "output_type": "stream",
     "text": [
      "3.890359427640164\n"
     ]
    }
   ],
   "source": [
    "print(option.NPV())"
   ]
  },
  {
   "cell_type": "code",
   "execution_count": 16,
   "id": "9a17b0c9-348a-44c6-bca0-295ced049a84",
   "metadata": {},
   "outputs": [],
   "source": [
    "Settings.instance().evaluationDate = Date(7, April, 2014)"
   ]
  },
  {
   "cell_type": "code",
   "execution_count": 17,
   "id": "b684f8e6-1977-418e-bf4b-3d6d9ab95832",
   "metadata": {},
   "outputs": [
    {
     "name": "stdout",
     "output_type": "stream",
     "text": [
      "17.670454809119732\n"
     ]
    }
   ],
   "source": [
    "print(option.NPV())"
   ]
  },
  {
   "cell_type": "code",
   "execution_count": 19,
   "id": "a1ee56a4-e259-4406-aa21-8e79a359f404",
   "metadata": {},
   "outputs": [
    {
     "data": {
      "image/png": "[encoded data removed]",
      "text/plain": [
       "<Figure size 640x480 with 1 Axes>"
      ]
     },
     "metadata": {},
     "output_type": "display_data"
    },
    {
     "data": {
      "image/png": "[encoded data removed]",
      "text/plain": [
       "<Figure size 640x480 with 1 Axes>"
      ]
     },
     "metadata": {},
     "output_type": "display_data"
    }
   ],
   "source": [
    "import matplotlib.pyplot as plt\n",
    "\n",
    "# Create a figure object\n",
    "f = plt.figure()\n",
    "\n",
    "# Your existing plot code\n",
    "ax = f.add_subplot(111)\n",
    "xs = range(10)\n",
    "ys = []\n",
    "for x in xs:\n",
    "    # Assuming option.NPV() is defined elsewhere and returns a value\n",
    "    ys.append(option.NPV())\n",
    "ax.plot(xs, ys, '--')\n",
    "\n",
    "# Display the figure\n",
    "display(f)\n"
   ]
  },
  {
   "cell_type": "code",
   "execution_count": 21,
   "id": "c388f977-aa24-4fd2-b175-ee6a7ee96612",
   "metadata": {},
   "outputs": [],
   "source": [
    "import QuantLib as ql\n",
    "\n",
    "# Set the evaluation date\n",
    "ql.Settings.instance().evaluationDate = ql.Date(7, ql.June, 2014)\n"
   ]
  },
  {
   "cell_type": "code",
   "execution_count": 22,
   "id": "0e60b87f-971a-470a-a5ad-8359cfb69c94",
   "metadata": {},
   "outputs": [
    {
     "name": "stdout",
     "output_type": "stream",
     "text": [
      "17.612621916346324\n"
     ]
    }
   ],
   "source": [
    "print(option.NPV())"
   ]
  },
  {
   "cell_type": "markdown",
   "id": "c15be82b-9946-492f-ac3b-42817cf3a10c",
   "metadata": {},
   "source": [
    "## Other Pricing methods"
   ]
  },
  {
   "cell_type": "code",
   "execution_count": 24,
   "id": "a6a154ca-c47c-4afc-9654-7ca04443286a",
   "metadata": {},
   "outputs": [
    {
     "name": "stdout",
     "output_type": "stream",
     "text": [
      "Evaluation date set to: June 7th, 2014\n",
      "u: 105.0, r: 0.01, sigma: 0.2\n"
     ]
    }
   ],
   "source": [
    "import QuantLib as ql\n",
    "\n",
    "# Define 'today' as the current date\n",
    "today = ql.Date(7, ql.June, 2014)\n",
    "ql.Settings.instance().evaluationDate = today\n",
    "\n",
    "# Set values for u, r, and sigma\n",
    "u = ql.SimpleQuote(105.0)\n",
    "r = ql.SimpleQuote(0.01)\n",
    "sigma = ql.SimpleQuote(0.20)\n",
    "\n",
    "# Example usage\n",
    "print(f\"Evaluation date set to: {today}\")\n",
    "print(f\"u: {u.value()}, r: {r.value()}, sigma: {sigma.value()}\")\n"
   ]
  },
  {
   "cell_type": "code",
   "execution_count": 25,
   "id": "1b12dedb-67f7-4652-ae22-7ad76f284cf6",
   "metadata": {},
   "outputs": [
    {
     "name": "stdout",
     "output_type": "stream",
     "text": [
      "17.612621916346324\n"
     ]
    }
   ],
   "source": [
    "print(option.NPV())"
   ]
  },
  {
   "cell_type": "code",
   "execution_count": 29,
   "id": "efa67854-e34a-45ea-a19b-a0de50a98a75",
   "metadata": {},
   "outputs": [],
   "source": [
    "import QuantLib as ql\n",
    "\n",
    "# Define the risk-free rate\n",
    "riskFreeRate = 0.01  # Example rate\n",
    "settlementDate = ql.Date(7, ql.June, 2014)\n",
    "ql.Settings.instance().evaluationDate = settlementDate\n",
    "\n",
    "# Construct the YieldTermStructure\n",
    "riskFreeCurve = ql.FlatForward(settlementDate, riskFreeRate, ql.Actual360())\n",
    "\n",
    "# Continue with the Heston Model\n",
    "model = ql.HestonModel(\n",
    "    ql.HestonProcess(\n",
    "        ql.YieldTermStructureHandle(riskFreeCurve),\n",
    "        ql.YieldTermStructureHandle(ql.FlatForward(0, ql.TARGET(), 0.0, ql.Actual360())),\n",
    "        ql.QuoteHandle(u),\n",
    "        0.04, 0.1, 0.01, 0.05, -0.75\n",
    "    )\n",
    ")\n",
    "\n",
    "# Example to set u, r, and sigma values\n",
    "u.setValue(105.0)\n",
    "r.setValue(0.01)\n",
    "sigma.setValue(0.20)\n"
   ]
  },
  {
   "cell_type": "code",
   "execution_count": 30,
   "id": "3664fd1d-01aa-4244-8be5-ec7a49b34426",
   "metadata": {},
   "outputs": [],
   "source": [
    "engine = AnalyticHestonEngine(model)\n",
    "option.setPricingEngine(engine)"
   ]
  },
  {
   "cell_type": "code",
   "execution_count": 31,
   "id": "e998f576-cd2b-4a4a-8a76-99490a808139",
   "metadata": {},
   "outputs": [
    {
     "name": "stdout",
     "output_type": "stream",
     "text": [
      "29.237516228352778\n"
     ]
    }
   ],
   "source": [
    "print(option.NPV())"
   ]
  },
  {
   "cell_type": "markdown",
   "id": "5aad6613-a4a7-48ba-afbe-bf356cd9105f",
   "metadata": {},
   "source": [
    "## Lazy recalculation"
   ]
  },
  {
   "cell_type": "code",
   "execution_count": 38,
   "id": "4b36613f-49d7-459c-abe2-7f4e26965025",
   "metadata": {},
   "outputs": [
    {
     "name": "stdout",
     "output_type": "stream",
     "text": [
      "The option price is: 28.946596477234188\n"
     ]
    }
   ],
   "source": [
    "import QuantLib as ql\n",
    "\n",
    "# Define the risk-free rate\n",
    "riskFreeRate = 0.01  # Example rate\n",
    "settlementDate = ql.Date(7, ql.June, 2014)\n",
    "ql.Settings.instance().evaluationDate = settlementDate\n",
    "\n",
    "# Construct the YieldTermStructure\n",
    "riskFreeCurve = ql.FlatForward(settlementDate, riskFreeRate, ql.Actual360())\n",
    "\n",
    "# Define the underlying asset and Heston process parameters\n",
    "u = ql.SimpleQuote(105.0)\n",
    "v0 = 0.04\n",
    "kappa = 0.1\n",
    "theta = 0.04\n",
    "sigma = 0.2\n",
    "rho = -0.75\n",
    "\n",
    "# Create the Heston process\n",
    "hestonProcess = ql.HestonProcess(\n",
    "    ql.YieldTermStructureHandle(riskFreeCurve),\n",
    "    ql.YieldTermStructureHandle(ql.FlatForward(0, ql.TARGET(), 0.0, ql.Actual360())),\n",
    "    ql.QuoteHandle(u),\n",
    "    v0, kappa, theta, sigma, rho\n",
    ")\n",
    "\n",
    "# Create the Monte Carlo Heston engine\n",
    "engine = ql.MCEuropeanHestonEngine(\n",
    "    hestonProcess,\n",
    "    \"PseudoRandom\",\n",
    "    timeSteps=20,\n",
    "    requiredSamples=250000\n",
    ")\n",
    "\n",
    "# Assuming `option` is already defined as your European option\n",
    "option.setPricingEngine(engine)\n",
    "\n",
    "# Example calculation (make sure to define the option first)\n",
    "price = option.NPV()\n",
    "print(f\"The option price is: {price}\")\n",
    "\n"
   ]
  },
  {
   "cell_type": "code",
   "execution_count": 39,
   "id": "d9cca0d1-78f5-4d64-965e-cee34e4a2925",
   "metadata": {},
   "outputs": [
    {
     "name": "stdout",
     "output_type": "stream",
     "text": [
      "28.946596477234188\n",
      "CPU times: total: 0 ns\n",
      "Wall time: 1.2 ms\n"
     ]
    }
   ],
   "source": [
    "%time print(option.NPV())"
   ]
  },
  {
   "cell_type": "code",
   "execution_count": 40,
   "id": "22916c09-3792-4e1a-95ec-ffe368922bc0",
   "metadata": {},
   "outputs": [
    {
     "name": "stdout",
     "output_type": "stream",
     "text": [
      "28.946596477234188\n",
      "CPU times: total: 15.6 ms\n",
      "Wall time: 1.45 ms\n"
     ]
    }
   ],
   "source": [
    "%time print(option.NPV())"
   ]
  },
  {
   "cell_type": "code",
   "execution_count": 41,
   "id": "e0a5bd47-f6ff-498d-ab0b-3ae2d4493447",
   "metadata": {},
   "outputs": [],
   "source": [
    "u.setValue(104.0)"
   ]
  },
  {
   "cell_type": "code",
   "execution_count": 42,
   "id": "5548550f-ffd2-4e8c-adf2-adb2fe4974e2",
   "metadata": {},
   "outputs": [
    {
     "name": "stdout",
     "output_type": "stream",
     "text": [
      "28.160422856737\n",
      "CPU times: total: 1.19 s\n",
      "Wall time: 1.96 s\n"
     ]
    }
   ],
   "source": [
    "%time print(option.NPV())"
   ]
  },
  {
   "cell_type": "code",
   "execution_count": null,
   "id": "2fba6998-f10c-4a78-86b7-814971b2248e",
   "metadata": {},
   "outputs": [],
   "source": []
  }
 ],
 "metadata": {
  "kernelspec": {
   "display_name": "Python 3 (ipykernel)",
   "language": "python",
   "name": "python3"
  },
  "language_info": {
   "codemirror_mode": {
    "name": "ipython",
    "version": 3
   },
   "file_extension": ".py",
   "mimetype": "text/x-python",
   "name": "python",
   "nbconvert_exporter": "python",
   "pygments_lexer": "ipython3",
   "version": "3.12.4"
  }
 },
 "nbformat": 4,
 "nbformat_minor": 5
}
