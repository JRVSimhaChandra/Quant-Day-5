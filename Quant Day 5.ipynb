{
 "cells": [
  {
   "cell_type": "markdown",
   "id": "32d81f06-80c7-4b6c-ae19-caa805e3a4ff",
   "metadata": {},
   "source": [
    "## Instruments and pricing engines\n",
    "\n",
    "Setup\n",
    "\n",
    "First pricing method: analytic Black-Scholes formula"
   ]
  },
  {
   "cell_type": "code",
   "execution_count": 37,
   "id": "6bc18bfd-aabf-48bf-8386-a02116ec27e4",
   "metadata": {},
   "outputs": [
    {
     "name": "stdout",
     "output_type": "stream",
     "text": [
      "The option price is: 17.698227839595344\n"
     ]
    }
   ],
   "source": [
    "from QuantLib import *\n",
    "\n",
    "# Define the option\n",
    "maturity_date = Date(15, 1, 2025)\n",
    "spot_price = 100\n",
    "strike_price = 100\n",
    "volatility = 0.20  # the historical vols for a year\n",
    "risk_free_rate = 0.01\n",
    "dividend_rate = 0.02\n",
    "\n",
    "# Option type\n",
    "option_type = Option.Call\n",
    "exercise = EuropeanExercise(maturity_date)\n",
    "payoff = PlainVanillaPayoff(option_type, strike_price)\n",
    "option = VanillaOption(payoff, exercise)\n",
    "\n",
    "# Market data\n",
    "spot_handle = QuoteHandle(SimpleQuote(spot_price))\n",
    "flat_ts = YieldTermStructureHandle(FlatForward(0, TARGET(), risk_free_rate, Actual360()))\n",
    "dividend_yield = YieldTermStructureHandle(FlatForward(0, TARGET(), dividend_rate, Actual360()))\n",
    "flat_vol_ts = BlackVolTermStructureHandle(BlackConstantVol(0, TARGET(), volatility, Actual360()))\n",
    "\n",
    "\n",
    "bs_process = BlackScholesMertonProcess(spot_handle, dividend_yield, flat_ts, flat_vol_ts)\n",
    "\n",
    "\n",
    "engine = AnalyticEuropeanEngine(bs_process)\n",
    "option.setPricingEngine(engine)\n",
    "\n",
    "\n",
    "option_price = option.NPV()\n",
    "print(f\"The option price is: {option_price}\")\n"
   ]
  },
  {
   "cell_type": "code",
   "execution_count": 38,
   "id": "b68d8d6a-c4f0-48d4-8a5a-c7bd38e62648",
   "metadata": {},
   "outputs": [
    {
     "name": "stdout",
     "output_type": "stream",
     "text": [
      "0.45397905183641285\n",
      "0.004754495460641294\n",
      "104.7837971798001\n"
     ]
    }
   ],
   "source": [
    "print(option.delta())\n",
    "print(option.gamma())\n",
    "print(option.vega())"
   ]
  }
 ],
 "metadata": {
  "kernelspec": {
   "display_name": "Python 3 (ipykernel)",
   "language": "python",
   "name": "python3"
  },
  "language_info": {
   "codemirror_mode": {
    "name": "ipython",
    "version": 3
   },
   "file_extension": ".py",
   "mimetype": "text/x-python",
   "name": "python",
   "nbconvert_exporter": "python",
   "pygments_lexer": "ipython3",
   "version": "3.12.4"
  }
 },
 "nbformat": 4,
 "nbformat_minor": 5
}
